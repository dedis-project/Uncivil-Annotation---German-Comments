{
 "cells": [
  {
   "cell_type": "markdown",
   "metadata": {},
   "source": [
    "# Txt-Files for Uncivil Annotations from Comment-csv\n",
    "Author: ankekat1000 \n",
    "Date: March 2019"
   ]
  },
  {
   "cell_type": "code",
   "execution_count": 2,
   "metadata": {},
   "outputs": [],
   "source": [
    "import pandas as pd #E.g. using the Pandas Library."
   ]
  },
  {
   "cell_type": "code",
   "execution_count": 3,
   "metadata": {},
   "outputs": [],
   "source": [
    "f = open(\"ibh_testdaten.csv\", \"rb\")"
   ]
  },
  {
   "cell_type": "code",
   "execution_count": 4,
   "metadata": {},
   "outputs": [],
   "source": [
    "df= pd.read_csv(f,sep=\";\",\n",
    "                encoding=\"utf-8\",\n",
    "                #names=[\"comment_id\", \"comment_message\", \"impoliteness\"],\n",
    "              #  skiprows=1\n",
    "               )"
   ]
  },
  {
   "cell_type": "code",
   "execution_count": 5,
   "metadata": {},
   "outputs": [
    {
     "name": "stdout",
     "output_type": "stream",
     "text": [
      "length df: 20518\n"
     ]
    },
    {
     "data": {
      "text/html": [
       "<div>\n",
       "<style scoped>\n",
       "    .dataframe tbody tr th:only-of-type {\n",
       "        vertical-align: middle;\n",
       "    }\n",
       "\n",
       "    .dataframe tbody tr th {\n",
       "        vertical-align: top;\n",
       "    }\n",
       "\n",
       "    .dataframe thead th {\n",
       "        text-align: right;\n",
       "    }\n",
       "</style>\n",
       "<table border=\"1\" class=\"dataframe\">\n",
       "  <thead>\n",
       "    <tr style=\"text-align: right;\">\n",
       "      <th></th>\n",
       "      <th>Unnamed: 0</th>\n",
       "      <th>Comment_ID</th>\n",
       "      <th>message</th>\n",
       "      <th>impoliteness</th>\n",
       "    </tr>\n",
       "  </thead>\n",
       "  <tbody>\n",
       "    <tr>\n",
       "      <th>0</th>\n",
       "      <td>0</td>\n",
       "      <td>10155742247640680</td>\n",
       "      <td>Diese Merkel nimmt europaweit sowieso keiner m...</td>\n",
       "      <td>1</td>\n",
       "    </tr>\n",
       "    <tr>\n",
       "      <th>1</th>\n",
       "      <td>1</td>\n",
       "      <td>10155315808149652</td>\n",
       "      <td>Kann mich nicht entscheiden, soll ich mir eine...</td>\n",
       "      <td>0</td>\n",
       "    </tr>\n",
       "    <tr>\n",
       "      <th>2</th>\n",
       "      <td>2</td>\n",
       "      <td>10156183865384869</td>\n",
       "      <td>Hier sieht man: Auch Moslems sind Opfer des Is...</td>\n",
       "      <td>0</td>\n",
       "    </tr>\n",
       "    <tr>\n",
       "      <th>3</th>\n",
       "      <td>3</td>\n",
       "      <td>10155827645654869</td>\n",
       "      <td>\"Hass für niemanden\" Ich könnt wetten, dass da...</td>\n",
       "      <td>0</td>\n",
       "    </tr>\n",
       "    <tr>\n",
       "      <th>4</th>\n",
       "      <td>4</td>\n",
       "      <td>10154832868940976</td>\n",
       "      <td>Wir haben jetzt schon verloren, denn keiner ha...</td>\n",
       "      <td>1</td>\n",
       "    </tr>\n",
       "  </tbody>\n",
       "</table>\n",
       "</div>"
      ],
      "text/plain": [
       "   Unnamed: 0         Comment_ID  \\\n",
       "0           0  10155742247640680   \n",
       "1           1  10155315808149652   \n",
       "2           2  10156183865384869   \n",
       "3           3  10155827645654869   \n",
       "4           4  10154832868940976   \n",
       "\n",
       "                                             message  impoliteness  \n",
       "0  Diese Merkel nimmt europaweit sowieso keiner m...             1  \n",
       "1  Kann mich nicht entscheiden, soll ich mir eine...             0  \n",
       "2  Hier sieht man: Auch Moslems sind Opfer des Is...             0  \n",
       "3  \"Hass für niemanden\" Ich könnt wetten, dass da...             0  \n",
       "4  Wir haben jetzt schon verloren, denn keiner ha...             1  "
      ]
     },
     "execution_count": 5,
     "metadata": {},
     "output_type": "execute_result"
    }
   ],
   "source": [
    "print(\"length df: \"+str(len(df)))\n",
    "df.head()"
   ]
  },
  {
   "cell_type": "code",
   "execution_count": 6,
   "metadata": {},
   "outputs": [],
   "source": [
    "#Drop unwanted columns.\n",
    "df.drop([\"Unnamed: 0\"], axis=1, inplace=True)\n",
    "df.drop([\"impoliteness\"], axis=1, inplace=True)"
   ]
  },
  {
   "cell_type": "code",
   "execution_count": 7,
   "metadata": {},
   "outputs": [],
   "source": [
    "#Drop N.A. (in all rows)\n",
    "df.dropna(inplace=True)"
   ]
  },
  {
   "cell_type": "code",
   "execution_count": 8,
   "metadata": {},
   "outputs": [
    {
     "data": {
      "text/plain": [
       "20518"
      ]
     },
     "execution_count": 8,
     "metadata": {},
     "output_type": "execute_result"
    }
   ],
   "source": [
    "len(df)"
   ]
  },
  {
   "cell_type": "code",
   "execution_count": 9,
   "metadata": {},
   "outputs": [
    {
     "data": {
      "text/html": [
       "<div>\n",
       "<style scoped>\n",
       "    .dataframe tbody tr th:only-of-type {\n",
       "        vertical-align: middle;\n",
       "    }\n",
       "\n",
       "    .dataframe tbody tr th {\n",
       "        vertical-align: top;\n",
       "    }\n",
       "\n",
       "    .dataframe thead th {\n",
       "        text-align: right;\n",
       "    }\n",
       "</style>\n",
       "<table border=\"1\" class=\"dataframe\">\n",
       "  <thead>\n",
       "    <tr style=\"text-align: right;\">\n",
       "      <th></th>\n",
       "      <th>Comment_ID</th>\n",
       "      <th>message</th>\n",
       "    </tr>\n",
       "  </thead>\n",
       "  <tbody>\n",
       "    <tr>\n",
       "      <th>0</th>\n",
       "      <td>10155742247640680</td>\n",
       "      <td>Diese Merkel nimmt europaweit sowieso keiner m...</td>\n",
       "    </tr>\n",
       "    <tr>\n",
       "      <th>1</th>\n",
       "      <td>10155315808149652</td>\n",
       "      <td>Kann mich nicht entscheiden, soll ich mir eine...</td>\n",
       "    </tr>\n",
       "    <tr>\n",
       "      <th>2</th>\n",
       "      <td>10156183865384869</td>\n",
       "      <td>Hier sieht man: Auch Moslems sind Opfer des Is...</td>\n",
       "    </tr>\n",
       "    <tr>\n",
       "      <th>3</th>\n",
       "      <td>10155827645654869</td>\n",
       "      <td>\"Hass für niemanden\" Ich könnt wetten, dass da...</td>\n",
       "    </tr>\n",
       "    <tr>\n",
       "      <th>4</th>\n",
       "      <td>10154832868940976</td>\n",
       "      <td>Wir haben jetzt schon verloren, denn keiner ha...</td>\n",
       "    </tr>\n",
       "  </tbody>\n",
       "</table>\n",
       "</div>"
      ],
      "text/plain": [
       "          Comment_ID                                            message\n",
       "0  10155742247640680  Diese Merkel nimmt europaweit sowieso keiner m...\n",
       "1  10155315808149652  Kann mich nicht entscheiden, soll ich mir eine...\n",
       "2  10156183865384869  Hier sieht man: Auch Moslems sind Opfer des Is...\n",
       "3  10155827645654869  \"Hass für niemanden\" Ich könnt wetten, dass da...\n",
       "4  10154832868940976  Wir haben jetzt schon verloren, denn keiner ha..."
      ]
     },
     "execution_count": 9,
     "metadata": {},
     "output_type": "execute_result"
    }
   ],
   "source": [
    "df.head()"
   ]
  },
  {
   "cell_type": "code",
   "execution_count": 10,
   "metadata": {},
   "outputs": [],
   "source": [
    "#Make a sample of n comments (here n=100):\n",
    "df_sample100 = df.sample(n=100)"
   ]
  },
  {
   "cell_type": "code",
   "execution_count": 11,
   "metadata": {},
   "outputs": [
    {
     "data": {
      "text/html": [
       "<div>\n",
       "<style scoped>\n",
       "    .dataframe tbody tr th:only-of-type {\n",
       "        vertical-align: middle;\n",
       "    }\n",
       "\n",
       "    .dataframe tbody tr th {\n",
       "        vertical-align: top;\n",
       "    }\n",
       "\n",
       "    .dataframe thead th {\n",
       "        text-align: right;\n",
       "    }\n",
       "</style>\n",
       "<table border=\"1\" class=\"dataframe\">\n",
       "  <thead>\n",
       "    <tr style=\"text-align: right;\">\n",
       "      <th></th>\n",
       "      <th>Comment_ID</th>\n",
       "      <th>message</th>\n",
       "    </tr>\n",
       "  </thead>\n",
       "  <tbody>\n",
       "    <tr>\n",
       "      <th>8786</th>\n",
       "      <td>10156047536785680</td>\n",
       "      <td>Julia Anders je ärmer, je ungebildeter die Men...</td>\n",
       "    </tr>\n",
       "    <tr>\n",
       "      <th>3612</th>\n",
       "      <td>10155932422514407</td>\n",
       "      <td>Naja weil der IS kein Staat ist. Auch wenn sie...</td>\n",
       "    </tr>\n",
       "    <tr>\n",
       "      <th>20166</th>\n",
       "      <td>10156140001128115_10156140362893115</td>\n",
       "      <td>Ja, jedes Jahr am 32. Oktober ist Heilige Dunja 😉</td>\n",
       "    </tr>\n",
       "    <tr>\n",
       "      <th>989</th>\n",
       "      <td>10156427656528115</td>\n",
       "      <td>Migration aus Japan ist fast durchweg positiv....</td>\n",
       "    </tr>\n",
       "    <tr>\n",
       "      <th>18204</th>\n",
       "      <td>1707012976012279_1707264059320504</td>\n",
       "      <td>Die Umstände im Vorfeld sollten eruiert werden!</td>\n",
       "    </tr>\n",
       "    <tr>\n",
       "      <th>19579</th>\n",
       "      <td>10156118686149869_10156119038809869</td>\n",
       "      <td>Jürgen van den Heuvel, da haben Sie recht, an ...</td>\n",
       "    </tr>\n",
       "    <tr>\n",
       "      <th>7620</th>\n",
       "      <td>10155105232657554</td>\n",
       "      <td>Angst vor dem Lesen? ;-)</td>\n",
       "    </tr>\n",
       "    <tr>\n",
       "      <th>1868</th>\n",
       "      <td>10155864640630680</td>\n",
       "      <td>#ichbinhier Ich freue mich das etliche Mensche...</td>\n",
       "    </tr>\n",
       "    <tr>\n",
       "      <th>15397</th>\n",
       "      <td>10155810772690680</td>\n",
       "      <td>Sascha Lipsius Die ANTIFA und der schwarze Blo...</td>\n",
       "    </tr>\n",
       "    <tr>\n",
       "      <th>1577</th>\n",
       "      <td>10155984942639869</td>\n",
       "      <td>Es fängt vielleicht mit den kleinsten Gruppen ...</td>\n",
       "    </tr>\n",
       "  </tbody>\n",
       "</table>\n",
       "</div>"
      ],
      "text/plain": [
       "                                Comment_ID  \\\n",
       "8786                     10156047536785680   \n",
       "3612                     10155932422514407   \n",
       "20166  10156140001128115_10156140362893115   \n",
       "989                      10156427656528115   \n",
       "18204    1707012976012279_1707264059320504   \n",
       "19579  10156118686149869_10156119038809869   \n",
       "7620                     10155105232657554   \n",
       "1868                     10155864640630680   \n",
       "15397                    10155810772690680   \n",
       "1577                     10155984942639869   \n",
       "\n",
       "                                                 message  \n",
       "8786   Julia Anders je ärmer, je ungebildeter die Men...  \n",
       "3612   Naja weil der IS kein Staat ist. Auch wenn sie...  \n",
       "20166  Ja, jedes Jahr am 32. Oktober ist Heilige Dunja 😉  \n",
       "989    Migration aus Japan ist fast durchweg positiv....  \n",
       "18204    Die Umstände im Vorfeld sollten eruiert werden!  \n",
       "19579  Jürgen van den Heuvel, da haben Sie recht, an ...  \n",
       "7620                            Angst vor dem Lesen? ;-)  \n",
       "1868   #ichbinhier Ich freue mich das etliche Mensche...  \n",
       "15397  Sascha Lipsius Die ANTIFA und der schwarze Blo...  \n",
       "1577   Es fängt vielleicht mit den kleinsten Gruppen ...  "
      ]
     },
     "execution_count": 11,
     "metadata": {},
     "output_type": "execute_result"
    }
   ],
   "source": [
    "df_sample100.head(10)"
   ]
  },
  {
   "cell_type": "code",
   "execution_count": 12,
   "metadata": {},
   "outputs": [],
   "source": [
    "\n",
    "\n",
    "\n",
    "def Textfiles_from_df(df_ID_message):\n",
    "    for index, row in df_ID_message.iterrows():\n",
    "    #write a text file.\n",
    "        #Define file name - should be the comment-ID:\n",
    "        filename = str(row[\"Comment_ID\"])\n",
    "      \n",
    "        \n",
    "        #Define file content - should be the comment message:\n",
    "        text_to_be_written = str(row[\"message\"])\n",
    "        \n",
    "        file_object  = open(filename+\".txt\", \"w\")\n",
    "        file_object.write(str(text_to_be_written))\n",
    "        #close file, don't forget!\n",
    "        file_object.close()"
   ]
  },
  {
   "cell_type": "code",
   "execution_count": 13,
   "metadata": {},
   "outputs": [],
   "source": [
    "Textfiles_for_Annotations(df_sample100) #Creates 100 (or whatever your n is) text files in your directory."
   ]
  },
  {
   "cell_type": "markdown",
   "metadata": {},
   "source": [
    "# DONE, YEAH <3"
   ]
  },
  {
   "cell_type": "markdown",
   "metadata": {},
   "source": [
    "This function can also be imported from the modul named "
   ]
  },
  {
   "cell_type": "code",
   "execution_count": 17,
   "metadata": {},
   "outputs": [],
   "source": [
    "import annotation_helper"
   ]
  },
  {
   "cell_type": "code",
   "execution_count": 18,
   "metadata": {},
   "outputs": [],
   "source": [
    "from annotation_helper import Textfiles_from_df"
   ]
  },
  {
   "cell_type": "code",
   "execution_count": null,
   "metadata": {},
   "outputs": [],
   "source": []
  }
 ],
 "metadata": {
  "kernelspec": {
   "display_name": "Python 3",
   "language": "python",
   "name": "python3"
  },
  "language_info": {
   "codemirror_mode": {
    "name": "ipython",
    "version": 3
   },
   "file_extension": ".py",
   "mimetype": "text/x-python",
   "name": "python",
   "nbconvert_exporter": "python",
   "pygments_lexer": "ipython3",
   "version": "3.6.7"
  }
 },
 "nbformat": 4,
 "nbformat_minor": 2
}
